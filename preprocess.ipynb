{
 "cells": [
  {
   "cell_type": "code",
   "execution_count": 16,
   "metadata": {},
   "outputs": [],
   "source": [
    "import kagglehub , glob , os\n",
    "from sklearn.model_selection import train_test_split\n",
    "import shutil"
   ]
  },
  {
   "cell_type": "code",
   "execution_count": 17,
   "metadata": {},
   "outputs": [
    {
     "name": "stdout",
     "output_type": "stream",
     "text": [
      "Warning: Looks like you're using an outdated `kagglehub` version, please consider updating (latest version: 0.3.10)\n"
     ]
    },
    {
     "data": {
      "text/plain": [
       "'C:\\\\Users\\\\kkiko\\\\.cache\\\\kagglehub\\\\datasets\\\\asdasdasasdas\\\\garbage-classification\\\\versions\\\\2\\\\Garbage classification\\\\Garbage classification'"
      ]
     },
     "execution_count": 17,
     "metadata": {},
     "output_type": "execute_result"
    }
   ],
   "source": [
    "# Download latest version\n",
    "base_path = kagglehub.dataset_download(\"asdasdasasdas/garbage-classification\")\n",
    "base_path += \"\\\\Garbage classification\\\\Garbage classification\"\n",
    "base_path"
   ]
  },
  {
   "cell_type": "code",
   "execution_count": 18,
   "metadata": {},
   "outputs": [
    {
     "name": "stdout",
     "output_type": "stream",
     "text": [
      "2527\n",
      "C:\\Users\\kkiko\\.cache\\kagglehub\\datasets\\asdasdasasdas\\garbage-classification\\versions\\2\\Garbage classification\\Garbage classification\\cardboard\\cardboard1.jpg\n"
     ]
    }
   ],
   "source": [
    "img_list = glob.glob(os.path.join(base_path, '*/*.jpg'))\n",
    "print(len(img_list))\n",
    "print(img_list[0])\n"
   ]
  },
  {
   "cell_type": "code",
   "execution_count": 19,
   "metadata": {},
   "outputs": [
    {
     "name": "stdout",
     "output_type": "stream",
     "text": [
      "2021 506\n"
     ]
    }
   ],
   "source": [
    "X_train , X_test  = train_test_split(img_list, test_size=0.2, random_state=42)\n",
    "print(len(X_train), len(X_test))"
   ]
  },
  {
   "cell_type": "code",
   "execution_count": null,
   "metadata": {},
   "outputs": [],
   "source": [
    "# create train and test folders\n",
    "os.makedirs('train', exist_ok=True)\n",
    "os.makedirs('test', exist_ok=True)\n",
    "# create subfolders for each class\n",
    "for folder in ['cardboard', 'glass', 'metal', 'paper', 'plastic', 'trash']:\n",
    "    os.makedirs(os.path.join('train', folder), exist_ok=True)\n",
    "    os.makedirs(os.path.join('test', folder), exist_ok=True)\n",
    "# copy images to train and test folders\n",
    "for img in X_train:\n",
    "    class_name = img.split('\\\\')[-2]\n",
    "    shutil.copy(img, os.path.join('train', class_name))"
   ]
  },
  {
   "cell_type": "code",
   "execution_count": 21,
   "metadata": {},
   "outputs": [],
   "source": [
    "for img in X_test:\n",
    "    class_name = img.split('\\\\')[-2]\n",
    "    shutil.copy(img, os.path.join('test', class_name))"
   ]
  }
 ],
 "metadata": {
  "kernelspec": {
   "display_name": "Python 3",
   "language": "python",
   "name": "python3"
  },
  "language_info": {
   "codemirror_mode": {
    "name": "ipython",
    "version": 3
   },
   "file_extension": ".py",
   "mimetype": "text/x-python",
   "name": "python",
   "nbconvert_exporter": "python",
   "pygments_lexer": "ipython3",
   "version": "3.12.9"
  }
 },
 "nbformat": 4,
 "nbformat_minor": 2
}
